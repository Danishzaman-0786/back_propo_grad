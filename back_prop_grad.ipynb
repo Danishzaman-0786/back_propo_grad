{
  "nbformat": 4,
  "nbformat_minor": 0,
  "metadata": {
    "colab": {
      "provenance": [],
      "authorship_tag": "ABX9TyN9YFRNhYHRFvf4BTFyrcre",
      "include_colab_link": true
    },
    "kernelspec": {
      "name": "python3",
      "display_name": "Python 3"
    },
    "language_info": {
      "name": "python"
    }
  },
  "cells": [
    {
      "cell_type": "markdown",
      "metadata": {
        "id": "view-in-github",
        "colab_type": "text"
      },
      "source": [
        "<a href=\"https://colab.research.google.com/github/Danishzaman-0786/back_propo_grad/blob/main/back_prop_grad.ipynb\" target=\"_parent\"><img src=\"https://colab.research.google.com/assets/colab-badge.svg\" alt=\"Open In Colab\"/></a>"
      ]
    },
    {
      "cell_type": "code",
      "source": [
        "import torch as t"
      ],
      "metadata": {
        "id": "GirLpUfrDwmN"
      },
      "execution_count": 1,
      "outputs": []
    },
    {
      "cell_type": "code",
      "execution_count": 7,
      "metadata": {
        "id": "RGeHF2aSDfEN"
      },
      "outputs": [],
      "source": [
        "def der_(e,n):\n",
        "\n",
        "  x=t.tensor(float(e),requires_grad=True)\n",
        "  y=x**n\n",
        "  y.backward()\n",
        "  return int(x.grad.item())"
      ]
    },
    {
      "cell_type": "code",
      "source": [
        "der_(100,2)"
      ],
      "metadata": {
        "colab": {
          "base_uri": "https://localhost:8080/"
        },
        "id": "IITqTDLoD_Ya",
        "outputId": "f42a4793-57a3-42ac-ca48-7d9503ab917b"
      },
      "execution_count": 8,
      "outputs": [
        {
          "output_type": "execute_result",
          "data": {
            "text/plain": [
              "200"
            ]
          },
          "metadata": {},
          "execution_count": 8
        }
      ]
    },
    {
      "cell_type": "code",
      "source": [],
      "metadata": {
        "id": "KYMTcFizEP9h"
      },
      "execution_count": null,
      "outputs": []
    }
  ]
}